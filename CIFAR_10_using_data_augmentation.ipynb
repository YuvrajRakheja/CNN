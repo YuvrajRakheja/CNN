{
  "nbformat": 4,
  "nbformat_minor": 0,
  "metadata": {
    "colab": {
      "name": "CIFAR-10_using_data_augmentation.ipynb",
      "provenance": [],
      "authorship_tag": "ABX9TyNAiAX+gz1qNeX1JGgzSFgN",
      "include_colab_link": true
    },
    "kernelspec": {
      "name": "python3",
      "display_name": "Python 3"
    },
    "language_info": {
      "name": "python"
    },
    "accelerator": "GPU"
  },
  "cells": [
    {
      "cell_type": "markdown",
      "metadata": {
        "id": "view-in-github",
        "colab_type": "text"
      },
      "source": [
        "<a href=\"https://colab.research.google.com/github/YuvrajRakheja/CNN/blob/main/CIFAR_10_using_data_augmentation.ipynb\" target=\"_parent\"><img src=\"https://colab.research.google.com/assets/colab-badge.svg\" alt=\"Open In Colab\"/></a>"
      ]
    },
    {
      "cell_type": "code",
      "execution_count": 1,
      "metadata": {
        "colab": {
          "base_uri": "https://localhost:8080/"
        },
        "id": "rzxrElHgnMyi",
        "outputId": "d7575145-a4a3-4d82-8764-2e2d5a32a3b4"
      },
      "outputs": [
        {
          "output_type": "stream",
          "name": "stdout",
          "text": [
            "Found GPU at: /device:GPU:0\n"
          ]
        }
      ],
      "source": [
        "import tensorflow as tf\n",
        "device_name = tf.test.gpu_device_name()\n",
        "if device_name != '/device:GPU:0':\n",
        "  raise SystemError('GPU device not found')\n",
        "print('Found GPU at: {}'.format(device_name))"
      ]
    },
    {
      "cell_type": "code",
      "source": [
        "import numpy as np\n",
        "import matplotlib.pyplot as plt\n",
        "%matplotlib inline\n",
        "from __future__ import print_function\n",
        "import keras\n",
        "from keras.models import Sequential\n",
        "from keras.layers import Dense, Conv2D, MaxPooling2D, Dropout, Flatten"
      ],
      "metadata": {
        "id": "No08DM4VnTdr"
      },
      "execution_count": 2,
      "outputs": []
    },
    {
      "cell_type": "code",
      "source": [
        "from keras.datasets import cifar10\n",
        "(train_images, train_labels), (test_images, test_labels) = cifar10.load_data()"
      ],
      "metadata": {
        "colab": {
          "base_uri": "https://localhost:8080/"
        },
        "id": "Su77dMqGngJV",
        "outputId": "91bdb91a-ab50-4da3-d2c4-e381213ac773"
      },
      "execution_count": 3,
      "outputs": [
        {
          "output_type": "stream",
          "name": "stdout",
          "text": [
            "Downloading data from https://www.cs.toronto.edu/~kriz/cifar-10-python.tar.gz\n",
            "170500096/170498071 [==============================] - 16s 0us/step\n",
            "170508288/170498071 [==============================] - 16s 0us/step\n"
          ]
        }
      ]
    },
    {
      "cell_type": "code",
      "source": [
        "from tensorflow.keras.utils import to_categorical"
      ],
      "metadata": {
        "id": "Fnemt6hIniik"
      },
      "execution_count": 6,
      "outputs": []
    },
    {
      "cell_type": "code",
      "source": [
        "print('Training data shape : ', train_images.shape, train_labels.shape)\n",
        "\n",
        "print('Testing data shape : ', test_images.shape, test_labels.shape)\n",
        "\n",
        "# Find the unique numbers from the train labels\n",
        "classes = np.unique(train_labels)\n",
        "nClasses = len(classes)\n",
        "print('Total number of outputs : ', nClasses)\n",
        "print('Output classes : ', classes)\n",
        "\n",
        "plt.figure(figsize=[4,2])\n",
        "\n",
        "# Display the first image in training data\n",
        "plt.subplot(121)\n",
        "plt.imshow(train_images[0,:,:], cmap='gray')\n",
        "plt.title(\"Ground Truth : {}\".format(train_labels[0]))\n",
        "\n",
        "# Display the first image in testing data\n",
        "plt.subplot(122)\n",
        "plt.imshow(test_images[0,:,:], cmap='gray')\n",
        "plt.title(\"Ground Truth : {}\".format(test_labels[0]))"
      ],
      "metadata": {
        "colab": {
          "base_uri": "https://localhost:8080/",
          "height": 252
        },
        "id": "Vl0geEE1n9BV",
        "outputId": "ea6871dd-b703-4312-8d72-5b3dc839fe2c"
      },
      "execution_count": 7,
      "outputs": [
        {
          "output_type": "stream",
          "name": "stdout",
          "text": [
            "Training data shape :  (50000, 32, 32, 3) (50000, 1)\n",
            "Testing data shape :  (10000, 32, 32, 3) (10000, 1)\n",
            "Total number of outputs :  10\n",
            "Output classes :  [0 1 2 3 4 5 6 7 8 9]\n"
          ]
        },
        {
          "output_type": "execute_result",
          "data": {
            "text/plain": [
              "Text(0.5, 1.0, 'Ground Truth : [3]')"
            ]
          },
          "metadata": {},
          "execution_count": 7
        },
        {
          "output_type": "display_data",
          "data": {
            "text/plain": [
              "<Figure size 288x144 with 2 Axes>"
            ],
            "image/png": "[encoded data removed]"
          },
          "metadata": {
            "needs_background": "light"
          }
        }
      ]
    },
    {
      "cell_type": "code",
      "source": [
        "# Find the shape of input images and create the variable input_shape\n",
        "nRows,nCols,nDims = train_images.shape[1:]\n",
        "train_data = train_images.reshape(train_images.shape[0], nRows, nCols, nDims)\n",
        "test_data = test_images.reshape(test_images.shape[0], nRows, nCols, nDims)\n",
        "input_shape = (nRows, nCols, nDims)\n",
        "\n",
        "# Change to float datatype\n",
        "train_data = train_data.astype('float32')\n",
        "test_data = test_data.astype('float32')\n",
        "\n",
        "# Scale the data to lie between 0 to 1\n",
        "train_data /= 255\n",
        "test_data /= 255\n",
        "\n",
        "# Change the labels from integer to categorical data\n",
        "train_labels_one_hot = to_categorical(train_labels)\n",
        "test_labels_one_hot = to_categorical(test_labels)"
      ],
      "metadata": {
        "id": "mf4lhcS8oAQ6"
      },
      "execution_count": 8,
      "outputs": []
    },
    {
      "cell_type": "code",
      "source": [
        "# Display the change for category label using one-hot encoding\n",
        "print('Original label 0 : ', train_labels[0])\n",
        "print('After conversion to categorical ( one-hot ) : ', train_labels_one_hot[0])"
      ],
      "metadata": {
        "colab": {
          "base_uri": "https://localhost:8080/"
        },
        "id": "J1s4x60Jocqk",
        "outputId": "0e6b9f77-abd4-4013-dd71-d2e711d93ae1"
      },
      "execution_count": 9,
      "outputs": [
        {
          "output_type": "stream",
          "name": "stdout",
          "text": [
            "Original label 0 :  [6]\n",
            "After conversion to categorical ( one-hot ) :  [0. 0. 0. 0. 0. 0. 1. 0. 0. 0.]\n"
          ]
        }
      ]
    },
    {
      "cell_type": "code",
      "source": [
        "def createModel():\n",
        "    model = Sequential()\n",
        "    # The first two layers with 32 filters of window size 3x3\n",
        "    model.add(Conv2D(32, (3, 3), padding='same', activation='relu', input_shape=input_shape))\n",
        "    model.add(Conv2D(32, (3, 3), activation='relu'))\n",
        "    model.add(MaxPooling2D(pool_size=(2, 2)))\n",
        "    model.add(Dropout(0.25))\n",
        "\n",
        "    model.add(Conv2D(64, (3, 3), padding='same', activation='relu'))\n",
        "    model.add(Conv2D(64, (3, 3), activation='relu'))\n",
        "    model.add(MaxPooling2D(pool_size=(2, 2)))\n",
        "    model.add(Dropout(0.25))\n",
        "\n",
        "    model.add(Conv2D(64, (3, 3), padding='same', activation='relu'))\n",
        "    model.add(Conv2D(64, (3, 3), activation='relu'))\n",
        "    model.add(MaxPooling2D(pool_size=(2, 2)))\n",
        "    model.add(Dropout(0.25))\n",
        "\n",
        "    model.add(Flatten())\n",
        "    model.add(Dense(512, activation='relu'))\n",
        "    model.add(Dropout(0.5))\n",
        "    model.add(Dense(nClasses, activation='softmax'))\n",
        "    \n",
        "    return model"
      ],
      "metadata": {
        "id": "CvrFk8zWogQM"
      },
      "execution_count": 10,
      "outputs": []
    },
    {
      "cell_type": "code",
      "source": [
        "from keras.preprocessing.image import ImageDataGenerator\n",
        "\n",
        "model2 = createModel()\n",
        "\n",
        "model2.compile(optimizer='rmsprop', loss='categorical_crossentropy', metrics=['accuracy'])\n",
        "\n",
        "batch_size = 256\n",
        "epochs = 50\n",
        "datagen = ImageDataGenerator(\n",
        "#         zoom_range=0.2, # randomly zoom into images\n",
        "#         rotation_range=10,  # randomly rotate images in the range (degrees, 0 to 180)\n",
        "        width_shift_range=0.1,  # randomly shift images horizontally (fraction of total width)\n",
        "        height_shift_range=0.1,  # randomly shift images vertically (fraction of total height)\n",
        "        horizontal_flip=True,  # randomly flip images\n",
        "        vertical_flip=False)  # randomly flip images\n",
        "\n",
        "\n",
        "# datagen.fit(train_data)\n",
        "\n",
        "# Fit the model on the batches generated by datagen.flow().\n",
        "history2 = model2.fit_generator(datagen.flow(train_data, train_labels_one_hot, batch_size=batch_size),\n",
        "                              steps_per_epoch=int(np.ceil(train_data.shape[0] / float(batch_size))),\n",
        "                              epochs=epochs,\n",
        "                              validation_data=(test_data, test_labels_one_hot),\n",
        "                              workers=4)\n",
        "\n",
        "model2.evaluate(test_data, test_labels_one_hot)"
      ],
      "metadata": {
        "colab": {
          "base_uri": "https://localhost:8080/"
        },
        "id": "lx-XXBqfojSv",
        "outputId": "1d57cfb0-d525-4ec8-f10d-49dc3edc702d"
      },
      "execution_count": 11,
      "outputs": [
        {
          "output_type": "stream",
          "name": "stderr",
          "text": [
            "/usr/local/lib/python3.7/dist-packages/ipykernel_launcher.py:25: UserWarning: `Model.fit_generator` is deprecated and will be removed in a future version. Please use `Model.fit`, which supports generators.\n"
          ]
        },
        {
          "output_type": "stream",
          "name": "stdout",
          "text": [
            "Epoch 1/50\n",
            "196/196 [==============================] - 37s 129ms/step - loss: 2.0768 - accuracy: 0.2287 - val_loss: 1.8338 - val_accuracy: 0.3333\n",
            "Epoch 2/50\n",
            "196/196 [==============================] - 26s 132ms/step - loss: 1.7658 - accuracy: 0.3570 - val_loss: 1.4851 - val_accuracy: 0.4573\n",
            "Epoch 3/50\n",
            "196/196 [==============================] - 28s 142ms/step - loss: 1.6180 - accuracy: 0.4125 - val_loss: 1.3573 - val_accuracy: 0.5089\n",
            "Epoch 4/50\n",
            "196/196 [==============================] - 26s 130ms/step - loss: 1.4954 - accuracy: 0.4577 - val_loss: 1.4981 - val_accuracy: 0.4500\n",
            "Epoch 5/50\n",
            "196/196 [==============================] - 26s 129ms/step - loss: 1.4049 - accuracy: 0.4933 - val_loss: 1.2532 - val_accuracy: 0.5520\n",
            "Epoch 6/50\n",
            "196/196 [==============================] - 25s 127ms/step - loss: 1.3271 - accuracy: 0.5251 - val_loss: 1.2760 - val_accuracy: 0.5497\n",
            "Epoch 7/50\n",
            "196/196 [==============================] - 26s 128ms/step - loss: 1.2605 - accuracy: 0.5510 - val_loss: 1.0886 - val_accuracy: 0.6102\n",
            "Epoch 8/50\n",
            "196/196 [==============================] - 26s 128ms/step - loss: 1.1947 - accuracy: 0.5727 - val_loss: 1.1334 - val_accuracy: 0.5985\n",
            "Epoch 9/50\n",
            "196/196 [==============================] - 27s 134ms/step - loss: 1.1459 - accuracy: 0.5965 - val_loss: 0.9946 - val_accuracy: 0.6438\n",
            "Epoch 10/50\n",
            "196/196 [==============================] - 25s 128ms/step - loss: 1.1147 - accuracy: 0.6049 - val_loss: 0.9744 - val_accuracy: 0.6545\n",
            "Epoch 11/50\n",
            "196/196 [==============================] - 25s 128ms/step - loss: 1.0702 - accuracy: 0.6243 - val_loss: 0.9325 - val_accuracy: 0.6663\n",
            "Epoch 12/50\n",
            "196/196 [==============================] - 26s 128ms/step - loss: 1.0398 - accuracy: 0.6337 - val_loss: 0.9818 - val_accuracy: 0.6597\n",
            "Epoch 13/50\n",
            "196/196 [==============================] - 26s 133ms/step - loss: 1.0089 - accuracy: 0.6455 - val_loss: 0.8739 - val_accuracy: 0.6928\n",
            "Epoch 14/50\n",
            "196/196 [==============================] - 26s 131ms/step - loss: 0.9728 - accuracy: 0.6604 - val_loss: 0.9025 - val_accuracy: 0.6828\n",
            "Epoch 15/50\n",
            "196/196 [==============================] - 25s 128ms/step - loss: 0.9498 - accuracy: 0.6679 - val_loss: 0.8250 - val_accuracy: 0.7118\n",
            "Epoch 16/50\n",
            "196/196 [==============================] - 26s 131ms/step - loss: 0.9195 - accuracy: 0.6797 - val_loss: 0.7532 - val_accuracy: 0.7359\n",
            "Epoch 17/50\n",
            "196/196 [==============================] - 26s 131ms/step - loss: 0.8964 - accuracy: 0.6845 - val_loss: 0.7806 - val_accuracy: 0.7277\n",
            "Epoch 18/50\n",
            "196/196 [==============================] - 25s 127ms/step - loss: 0.8775 - accuracy: 0.6946 - val_loss: 0.8476 - val_accuracy: 0.7100\n",
            "Epoch 19/50\n",
            "196/196 [==============================] - 25s 127ms/step - loss: 0.8641 - accuracy: 0.7022 - val_loss: 0.7985 - val_accuracy: 0.7297\n",
            "Epoch 20/50\n",
            "196/196 [==============================] - 26s 133ms/step - loss: 0.8386 - accuracy: 0.7104 - val_loss: 0.7847 - val_accuracy: 0.7244\n",
            "Epoch 21/50\n",
            "196/196 [==============================] - 26s 131ms/step - loss: 0.8225 - accuracy: 0.7167 - val_loss: 0.7269 - val_accuracy: 0.7471\n",
            "Epoch 22/50\n",
            "196/196 [==============================] - 26s 131ms/step - loss: 0.8116 - accuracy: 0.7220 - val_loss: 0.8197 - val_accuracy: 0.7235\n",
            "Epoch 23/50\n",
            "196/196 [==============================] - 26s 131ms/step - loss: 0.7975 - accuracy: 0.7249 - val_loss: 0.7275 - val_accuracy: 0.7499\n",
            "Epoch 24/50\n",
            "196/196 [==============================] - 26s 131ms/step - loss: 0.7928 - accuracy: 0.7274 - val_loss: 0.7381 - val_accuracy: 0.7519\n",
            "Epoch 25/50\n",
            "196/196 [==============================] - 26s 131ms/step - loss: 0.7710 - accuracy: 0.7358 - val_loss: 0.6970 - val_accuracy: 0.7617\n",
            "Epoch 26/50\n",
            "196/196 [==============================] - 26s 131ms/step - loss: 0.7699 - accuracy: 0.7355 - val_loss: 0.6405 - val_accuracy: 0.7814\n",
            "Epoch 27/50\n",
            "196/196 [==============================] - 25s 127ms/step - loss: 0.7566 - accuracy: 0.7406 - val_loss: 0.7944 - val_accuracy: 0.7351\n",
            "Epoch 28/50\n",
            "196/196 [==============================] - 26s 131ms/step - loss: 0.7527 - accuracy: 0.7433 - val_loss: 0.6416 - val_accuracy: 0.7836\n",
            "Epoch 29/50\n",
            "196/196 [==============================] - 26s 130ms/step - loss: 0.7426 - accuracy: 0.7451 - val_loss: 0.6304 - val_accuracy: 0.7842\n",
            "Epoch 30/50\n",
            "196/196 [==============================] - 26s 130ms/step - loss: 0.7384 - accuracy: 0.7462 - val_loss: 0.7239 - val_accuracy: 0.7537\n",
            "Epoch 31/50\n",
            "196/196 [==============================] - 26s 132ms/step - loss: 0.7269 - accuracy: 0.7518 - val_loss: 0.6720 - val_accuracy: 0.7728\n",
            "Epoch 32/50\n",
            "196/196 [==============================] - 26s 130ms/step - loss: 0.7220 - accuracy: 0.7525 - val_loss: 0.7266 - val_accuracy: 0.7575\n",
            "Epoch 33/50\n",
            "196/196 [==============================] - 26s 131ms/step - loss: 0.7160 - accuracy: 0.7567 - val_loss: 0.6558 - val_accuracy: 0.7810\n",
            "Epoch 34/50\n",
            "196/196 [==============================] - 25s 127ms/step - loss: 0.7066 - accuracy: 0.7607 - val_loss: 0.6940 - val_accuracy: 0.7726\n",
            "Epoch 35/50\n",
            "196/196 [==============================] - 26s 130ms/step - loss: 0.7102 - accuracy: 0.7569 - val_loss: 0.6231 - val_accuracy: 0.7912\n",
            "Epoch 36/50\n",
            "196/196 [==============================] - 26s 131ms/step - loss: 0.7023 - accuracy: 0.7627 - val_loss: 0.6823 - val_accuracy: 0.7706\n",
            "Epoch 37/50\n",
            "196/196 [==============================] - 25s 127ms/step - loss: 0.6935 - accuracy: 0.7645 - val_loss: 0.7237 - val_accuracy: 0.7625\n",
            "Epoch 38/50\n",
            "196/196 [==============================] - 26s 131ms/step - loss: 0.6930 - accuracy: 0.7650 - val_loss: 0.6403 - val_accuracy: 0.7838\n",
            "Epoch 39/50\n",
            "196/196 [==============================] - 25s 127ms/step - loss: 0.6940 - accuracy: 0.7668 - val_loss: 0.6577 - val_accuracy: 0.7846\n",
            "Epoch 40/50\n",
            "196/196 [==============================] - 26s 131ms/step - loss: 0.6770 - accuracy: 0.7726 - val_loss: 0.6083 - val_accuracy: 0.7989\n",
            "Epoch 41/50\n",
            "196/196 [==============================] - 26s 132ms/step - loss: 0.6801 - accuracy: 0.7677 - val_loss: 0.6677 - val_accuracy: 0.7797\n",
            "Epoch 42/50\n",
            "196/196 [==============================] - 26s 129ms/step - loss: 0.6789 - accuracy: 0.7696 - val_loss: 0.5795 - val_accuracy: 0.8058\n",
            "Epoch 43/50\n",
            "196/196 [==============================] - 25s 127ms/step - loss: 0.6686 - accuracy: 0.7724 - val_loss: 0.5811 - val_accuracy: 0.8060\n",
            "Epoch 44/50\n",
            "196/196 [==============================] - 25s 126ms/step - loss: 0.6718 - accuracy: 0.7723 - val_loss: 0.7588 - val_accuracy: 0.7622\n",
            "Epoch 45/50\n",
            "196/196 [==============================] - 26s 128ms/step - loss: 0.6655 - accuracy: 0.7754 - val_loss: 0.6914 - val_accuracy: 0.7725\n",
            "Epoch 46/50\n",
            "196/196 [==============================] - 26s 132ms/step - loss: 0.6661 - accuracy: 0.7761 - val_loss: 0.5984 - val_accuracy: 0.8011\n",
            "Epoch 47/50\n",
            "196/196 [==============================] - 26s 130ms/step - loss: 0.6617 - accuracy: 0.7773 - val_loss: 0.6261 - val_accuracy: 0.7902\n",
            "Epoch 48/50\n",
            "196/196 [==============================] - 26s 131ms/step - loss: 0.6526 - accuracy: 0.7806 - val_loss: 0.5953 - val_accuracy: 0.8024\n",
            "Epoch 49/50\n",
            "196/196 [==============================] - 26s 132ms/step - loss: 0.6544 - accuracy: 0.7794 - val_loss: 0.6245 - val_accuracy: 0.7935\n",
            "Epoch 50/50\n",
            "196/196 [==============================] - 25s 126ms/step - loss: 0.6503 - accuracy: 0.7801 - val_loss: 0.6378 - val_accuracy: 0.7957\n",
            "313/313 [==============================] - 1s 4ms/step - loss: 0.6378 - accuracy: 0.7957\n"
          ]
        },
        {
          "output_type": "execute_result",
          "data": {
            "text/plain": [
              "[0.6378435492515564, 0.7957000136375427]"
            ]
          },
          "metadata": {},
          "execution_count": 11
        }
      ]
    },
    {
      "cell_type": "code",
      "source": [
        "model2.summary()"
      ],
      "metadata": {
        "colab": {
          "base_uri": "https://localhost:8080/"
        },
        "id": "GzjGsoVuonT4",
        "outputId": "b3857908-61a2-4c7e-b288-dece2c368db2"
      },
      "execution_count": 13,
      "outputs": [
        {
          "output_type": "stream",
          "name": "stdout",
          "text": [
            "Model: \"sequential\"\n",
            "_________________________________________________________________\n",
            " Layer (type)                Output Shape              Param #   \n",
            "=================================================================\n",
            " conv2d (Conv2D)             (None, 32, 32, 32)        896       \n",
            "                                                                 \n",
            " conv2d_1 (Conv2D)           (None, 30, 30, 32)        9248      \n",
            "                                                                 \n",
            " max_pooling2d (MaxPooling2D  (None, 15, 15, 32)       0         \n",
            " )                                                               \n",
            "                                                                 \n",
            " dropout (Dropout)           (None, 15, 15, 32)        0         \n",
            "                                                                 \n",
            " conv2d_2 (Conv2D)           (None, 15, 15, 64)        18496     \n",
            "                                                                 \n",
            " conv2d_3 (Conv2D)           (None, 13, 13, 64)        36928     \n",
            "                                                                 \n",
            " max_pooling2d_1 (MaxPooling  (None, 6, 6, 64)         0         \n",
            " 2D)                                                             \n",
            "                                                                 \n",
            " dropout_1 (Dropout)         (None, 6, 6, 64)          0         \n",
            "                                                                 \n",
            " conv2d_4 (Conv2D)           (None, 6, 6, 64)          36928     \n",
            "                                                                 \n",
            " conv2d_5 (Conv2D)           (None, 4, 4, 64)          36928     \n",
            "                                                                 \n",
            " max_pooling2d_2 (MaxPooling  (None, 2, 2, 64)         0         \n",
            " 2D)                                                             \n",
            "                                                                 \n",
            " dropout_2 (Dropout)         (None, 2, 2, 64)          0         \n",
            "                                                                 \n",
            " flatten (Flatten)           (None, 256)               0         \n",
            "                                                                 \n",
            " dense (Dense)               (None, 512)               131584    \n",
            "                                                                 \n",
            " dropout_3 (Dropout)         (None, 512)               0         \n",
            "                                                                 \n",
            " dense_1 (Dense)             (None, 10)                5130      \n",
            "                                                                 \n",
            "=================================================================\n",
            "Total params: 276,138\n",
            "Trainable params: 276,138\n",
            "Non-trainable params: 0\n",
            "_________________________________________________________________\n"
          ]
        }
      ]
    },
    {
      "cell_type": "code",
      "source": [
        "plt.figure(figsize=[8,6])\n",
        "plt.plot(history2.history['loss'],'r',linewidth=3.0)\n",
        "plt.plot(history2.history['val_loss'],'b',linewidth=3.0)\n",
        "plt.legend(['Training loss', 'Validation Loss'],fontsize=18)\n",
        "plt.xlabel('Epochs ',fontsize=16)\n",
        "plt.ylabel('Loss',fontsize=16)\n",
        "plt.title('Loss Curves',fontsize=16)"
      ],
      "metadata": {
        "colab": {
          "base_uri": "https://localhost:8080/",
          "height": 428
        },
        "id": "3VPuMpCko5Qb",
        "outputId": "1c0e4ec9-f5bc-48c0-fef0-f68e17b91b99"
      },
      "execution_count": 14,
      "outputs": [
        {
          "output_type": "execute_result",
          "data": {
            "text/plain": [
              "Text(0.5, 1.0, 'Loss Curves')"
            ]
          },
          "metadata": {},
          "execution_count": 14
        },
        {
          "output_type": "display_data",
          "data": {
            "text/plain": [
              "<Figure size 576x432 with 1 Axes>"
            ],
            "image/png": "[encoded data removed]"
          },
          "metadata": {
            "needs_background": "light"
          }
        }
      ]
    },
    {
      "cell_type": "code",
      "source": [
        "plt.figure(figsize=[8,6])\n",
        "plt.plot(history2.history['accuracy'],'r',linewidth=3.0)\n",
        "plt.plot(history2.history['val_accuracy'],'b',linewidth=3.0)\n",
        "plt.legend(['Training Accuracy', 'Validation Accuracy'],fontsize=18)\n",
        "plt.xlabel('Epochs ',fontsize=16)\n",
        "plt.ylabel('Accuracy',fontsize=16)\n",
        "plt.title('Accuracy Curves',fontsize=16)"
      ],
      "metadata": {
        "colab": {
          "base_uri": "https://localhost:8080/",
          "height": 428
        },
        "id": "Zby1hDampE8X",
        "outputId": "703fac7d-6aa5-4202-9c7c-e485f1e4de09"
      },
      "execution_count": 17,
      "outputs": [
        {
          "output_type": "execute_result",
          "data": {
            "text/plain": [
              "Text(0.5, 1.0, 'Accuracy Curves')"
            ]
          },
          "metadata": {},
          "execution_count": 17
        },
        {
          "output_type": "display_data",
          "data": {
            "text/plain": [
              "<Figure size 576x432 with 1 Axes>"
            ],
            "image/png": "[encoded data removed]"
          },
          "metadata": {
            "needs_background": "light"
          }
        }
      ]
    }
  ]
}